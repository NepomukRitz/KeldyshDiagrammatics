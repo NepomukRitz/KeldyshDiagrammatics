{
 "cells": [
  {
   "cell_type": "code",
   "execution_count": null,
   "metadata": {},
   "outputs": [],
   "source": [
    "from IPython.core.display import display, HTML\n",
    "display(HTML(\"<style>.container { width:100% !important; }</style>\"))"
   ]
  },
  {
   "cell_type": "code",
   "execution_count": null,
   "metadata": {},
   "outputs": [],
   "source": [
    "import numpy as np\n",
    "import matplotlib.pyplot as plt\n",
    "import h5py"
   ]
  },
  {
   "cell_type": "code",
   "execution_count": null,
   "metadata": {},
   "outputs": [],
   "source": [
    "nEVO = 16\n",
    "index = 15"
   ]
  },
  {
   "cell_type": "code",
   "execution_count": null,
   "metadata": {},
   "outputs": [],
   "source": [
    "def close_files():\n",
    "    for i in range(0,index):\n",
    "        files[i].close()\n",
    "        cfiles[i].close()\n",
    "    benchmark.close()"
   ]
  },
  {
   "cell_type": "code",
   "execution_count": null,
   "metadata": {},
   "outputs": [],
   "source": [
    "close_files()"
   ]
  },
  {
   "cell_type": "code",
   "execution_count": null,
   "metadata": {},
   "outputs": [],
   "source": [
    "benchmark = h5py.File(\"../cmake-build-debug/SOPT_SE.h5\")"
   ]
  },
  {
   "cell_type": "code",
   "execution_count": null,
   "metadata": {},
   "outputs": [],
   "source": [
    "v = np.array(benchmark['v'])\n",
    "\n",
    "BenchReSER = np.array(benchmark['Bench_ReSER'])\n",
    "BenchImSER = np.array(benchmark['Bench_ImSER'])\n",
    "BenchReSEK = np.array(benchmark['Bench_ReSEK'])\n",
    "BenchImSEK = np.array(benchmark['Bench_ImSEK'])\n",
    "\n",
    "BenchRePiaOO = np.array(benchmark['Bench_RePiaOO'])\n",
    "BenchImPiaOO = np.array(benchmark['Bench_ImPiaOO'])\n",
    "BenchRePiaOE = np.array(benchmark['Bench_RePiaOE'])\n",
    "BenchImPiaOE = np.array(benchmark['Bench_ImPiaOE'])"
   ]
  },
  {
   "cell_type": "code",
   "execution_count": null,
   "metadata": {},
   "outputs": [],
   "source": [
    "files = [h5py.File(\"../cmake-build-debug/SOPT_flowstep_\" + str(i) +\".h5\") for i in range(0,index)]"
   ]
  },
  {
   "cell_type": "code",
   "execution_count": null,
   "metadata": {},
   "outputs": [],
   "source": [
    "cfiles = [h5py.File(\"../cmake-build-debug/cSOPT_flowstep_\" + str(i) +\".h5\") for i in range(0,index)]"
   ]
  },
  {
   "cell_type": "code",
   "execution_count": null,
   "metadata": {},
   "outputs": [],
   "source": [
    "w = np.array(files[0]['w'])"
   ]
  },
  {
   "cell_type": "code",
   "execution_count": null,
   "metadata": {},
   "outputs": [],
   "source": [
    "ReSER = [np.array(files[i]['SOPT_ReSER']) for i in range(0, index)]\n",
    "ImSER = [np.array(files[i]['SOPT_ImSER']) for i in range(0, index)]\n",
    "ReSEK = [np.array(files[i]['SOPT_ReSEK']) for i in range(0, index)]\n",
    "ImSEK = [np.array(files[i]['SOPT_ImSEK']) for i in range(0, index)]\n",
    "\n",
    "RePiaOO = [np.array(files[i]['SOPT_RePiaOO'])for i in range(0, index)]\n",
    "ImPiaOO = [np.array(files[i]['SOPT_ImPiaOO'])for i in range(0, index)]\n",
    "RePiaOE = [np.array(files[i]['SOPT_RePiaOE'])for i in range(0, index)]\n",
    "ImPiaOE = [np.array(files[i]['SOPT_ImPiaOE'])for i in range(0, index)]"
   ]
  },
  {
   "cell_type": "code",
   "execution_count": null,
   "metadata": {},
   "outputs": [],
   "source": [
    "cReSER = [np.array(cfiles[i]['cSOPT_ReSER']) for i in range(0, index)]\n",
    "cImSER = [np.array(cfiles[i]['cSOPT_ImSER']) for i in range(0, index)]\n",
    "cReSEK = [np.array(cfiles[i]['cSOPT_ReSEK']) for i in range(0, index)]\n",
    "cImSEK = [np.array(cfiles[i]['cSOPT_ImSEK']) for i in range(0, index)]\n",
    "\n",
    "cRePiaOO = [np.array(cfiles[i]['cSOPT_RePiaOO'])for i in range(0, index)]\n",
    "cImPiaOO = [np.array(cfiles[i]['cSOPT_ImPiaOO'])for i in range(0, index)]\n",
    "cRePiaOE = [np.array(cfiles[i]['cSOPT_RePiaOE'])for i in range(0, index)]\n",
    "cImPiaOE = [np.array(cfiles[i]['cSOPT_ImPiaOE'])for i in range(0, index)]"
   ]
  },
  {
   "cell_type": "code",
   "execution_count": null,
   "metadata": {
    "scrolled": true
   },
   "outputs": [],
   "source": [
    "fig, ax = plt.subplots(nrows=1, ncols=2, figsize=(16,4))\n",
    "fig.suptitle(\"Retarded Self Energy\", fontsize=16)\n",
    "for i in range(2):\n",
    "    ax[i].set_xlim(np.array((-1,1))*10); \n",
    "    ax[i].set_xlabel('$\\omega$');\n",
    "    \n",
    "ax[0].set_ylabel('Re$G^R$'); ax[1].set_ylabel('Im$G^R$');\n",
    "ax[0].plot(w, BenchReSER, label='SOPT_ReSER')\n",
    "ax[1].plot(w, BenchImSER, label='SOPT_ImSER')\n",
    "for i in range(index):\n",
    "#    ax[0].plot(w, ReSER[i], '--')\n",
    "#   ax[1].plot(w, ImSER[i], '--')\n",
    "    ax[0].plot(w,cReSER[i], '--')\n",
    "    ax[1].plot(w,cImSER[i], '--')"
   ]
  },
  {
   "cell_type": "code",
   "execution_count": null,
   "metadata": {},
   "outputs": [],
   "source": [
    "fig, ax = plt.subplots(nrows=1, ncols=2, figsize=(16,4))\n",
    "fig.suptitle(\"Keldysh Self Energy\", fontsize=16)\n",
    "for i in range(2):\n",
    "    ax[i].set_xlim(np.array((-1,1))*20); \n",
    "    ax[i].set_xlabel('$\\omega$');\n",
    "    \n",
    "ax[0].set_ylabel('Re$G^R$'); ax[1].set_ylabel('Im$G^R$');\n",
    "ax[0].plot(w, BenchReSEK, label='SOPT_ReSEK')\n",
    "ax[1].plot(w, BenchImSEK, label='SOPT_ImSEK')\n",
    "for i in range(index):\n",
    "#    ax[0].plot(w, ReSEK[i], '--')\n",
    "#    ax[1].plot(w, ImSEK[i], '--')\n",
    "    ax[0].plot(w,cReSEK[i], '--')\n",
    "    ax[1].plot(w,cImSEK[i], '--')"
   ]
  },
  {
   "cell_type": "code",
   "execution_count": null,
   "metadata": {},
   "outputs": [],
   "source": [
    "fig, ax = plt.subplots(nrows=1, ncols=2, figsize=(16,4))\n",
    "fig.suptitle(\"Bubbles OO\", fontsize=16)\n",
    "for i in range(2):\n",
    "    ax[i].set_xlim(np.array((-20,20))); \n",
    "    ax[i].set_xlabel('$\\omega$');\n",
    "    \n",
    "#ax[1].set_ylim(np.array((-0.01,0.01)));\n",
    "ax[0].set_ylabel('Re$G^R$'); ax[1].set_ylabel('Im$G^R$');\n",
    "\n",
    "ax[0].plot(w, BenchRePiaOO, label='SOPT_RePiaOO')\n",
    "ax[1].plot(w, BenchImPiaOO, label='SOPT_ImPiaOO')\n",
    "for i in range(0,index):\n",
    "#    ax[0].plot(w, RePiaOO[i], '--')\n",
    "#    ax[1].plot(w, ImPiaOO[i], '--')\n",
    "    ax[0].plot(w,cRePiaOO[i], '.-')\n",
    "    ax[1].plot(w,cImPiaOO[i], '.-')\n"
   ]
  },
  {
   "cell_type": "code",
   "execution_count": null,
   "metadata": {},
   "outputs": [],
   "source": [
    "fig, ax = plt.subplots(nrows=1, ncols=2, figsize=(16,4))\n",
    "fig.suptitle(\"Bubbles OE\", fontsize=16)\n",
    "for i in range(2):\n",
    "    ax[i].set_xlim(np.array((-1,1))*20); \n",
    "    ax[i].set_xlabel('$\\omega$');\n",
    "    \n",
    "ax[0].set_ylabel('Re$G^R$'); ax[1].set_ylabel('Im$G^R$');\n",
    "\n",
    "ax[0].plot(w, BenchRePiaOE, label='SOPT_RePiaOE')\n",
    "ax[1].plot(w, BenchImPiaOE, label='SOPT_ImPiaOE')\n",
    "for i in range(0,index):\n",
    "#    ax[0].plot(w, RePiaOE[i], '--')\n",
    "#    ax[1].plot(w, ImPiaOE[i], '--')\n",
    "    ax[0].plot(w,cRePiaOE[i], '.-')\n",
    "    ax[1].plot(w,cImPiaOE[i], '.-')"
   ]
  },
  {
   "cell_type": "code",
   "execution_count": null,
   "metadata": {},
   "outputs": [],
   "source": []
  }
 ],
 "metadata": {
  "kernelspec": {
   "display_name": "Python 3",
   "language": "python",
   "name": "python3"
  },
  "language_info": {
   "codemirror_mode": {
    "name": "ipython",
    "version": 3
   },
   "file_extension": ".py",
   "mimetype": "text/x-python",
   "name": "python",
   "nbconvert_exporter": "python",
   "pygments_lexer": "ipython3",
   "version": "3.6.9"
  }
 },
 "nbformat": 4,
 "nbformat_minor": 2
}
