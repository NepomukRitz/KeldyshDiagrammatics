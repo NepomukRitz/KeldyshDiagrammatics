{
 "cells": [
  {
   "cell_type": "code",
   "execution_count": null,
   "metadata": {
    "scrolled": true
   },
   "outputs": [],
   "source": [
    "import h5py\n",
    "import numpy as np\n",
    "import matplotlib.pyplot as plt\n",
    "from load_data import load_K1, load_SE_A, load_parameters\n",
    "from plotting_routines import generate_filename_fRG, change_prefix, plot_fRG, generate_label\n",
    "from mpl_toolkits.mplot3d import Axes3D\n",
    "from matplotlib import cm\n",
    "plt.rc('text', usetex=True)\n",
    "plt.rc('font', family='serif')\n",
    "\n",
    "\n",
    "path = \"../Data/\"\n",
    "PC = \"parquet_check_\"\n",
    "EA = \"error_analysis_\""
   ]
  },
  {
   "cell_type": "code",
   "execution_count": null,
   "metadata": {},
   "outputs": [],
   "source": [
    "def retrieve_Gammas(filenames):\n",
    "    Gamma_list = []\n",
    "    for filename in filenames:\n",
    "        _, _, _, _, _, Gamma, _, _, _ = load_parameters(filename)\n",
    "        \n",
    "        Gamma_list.append(Gamma)\n",
    "        \n",
    "    return Gamma_list"
   ]
  },
  {
   "cell_type": "code",
   "execution_count": null,
   "metadata": {},
   "outputs": [],
   "source": [
    "def load_error_analysis_data_for_file(filename_EA):\n",
    "    with h5py.File(filename_EA, 'r') as f:\n",
    "        lambdas = np.array(f['lambdas'])\n",
    "        norms_K1_fRG = np.array(f['norm_K1_fRG'])\n",
    "        norms_K1_PC  = np.array(f['norm_K1_BSE'])\n",
    "        K1_diff_abs = np.array(f['K1_diff_abs'])\n",
    "        K1_diff_rel = np.array(f['K1_diff_rel'])\n",
    "    \n",
    "        norms_K2_fRG = np.array(f['norm_K2_fRG'])\n",
    "        norms_K2_PC  = np.array(f['norm_K2_BSE'])\n",
    "        K2_diff_abs = np.array(f['K2_diff_abs'])\n",
    "        K2_diff_rel = np.array(f['K2_diff_rel'])\n",
    "                            \n",
    "        norms_S_fRG = np.array(f['norm_S_fRG'])\n",
    "        norms_S_PC  = np.array(f['norm_S_SDE'])\n",
    "        Sigma_diff_abs = np.array(f['Sigma_diff_abs'])\n",
    "        Sigma_diff_rel = np.array(f['Sigma_diff_rel'])\n",
    "    \n",
    "    return lambdas, norms_K1_fRG, norms_K1_PC, K1_diff_abs, K1_diff_rel, \\\n",
    "            norms_K2_fRG, norms_K2_PC, K2_diff_abs, K2_diff_rel, \\\n",
    "            norms_S_fRG, norms_S_PC, Sigma_diff_abs, Sigma_diff_rel"
   ]
  },
  {
   "cell_type": "code",
   "execution_count": null,
   "metadata": {},
   "outputs": [],
   "source": [
    "def load_error_analysis_data_complete(filenames):\n",
    "    lambdas_list= []\n",
    "    norms_K1_fRG_list, norms_K1_PC_list = [], []\n",
    "    K1_diff_abs_list, K1_diff_rel_list = [], []\n",
    "    norms_K2_fRG_list, norms_K2_PC_list = [], []\n",
    "    K2_diff_abs_list, K2_diff_rel_list = [], []\n",
    "    norms_S_fRG_list, norms_S_PC_list = [], []\n",
    "    Sigma_diff_abs_list, Sigma_diff_rel_list = [], []\n",
    "    \n",
    "    for filename in filenames:\n",
    "        lambdas, norms_K1_fRG, norms_K1_PC, K1_diff_abs, K1_diff_rel, \\\n",
    "        norms_K2_fRG, norms_K2_PC, K2_diff_abs, K2_diff_rel, \\\n",
    "        norms_S_fRG, norms_S_PC, Sigma_diff_abs, Sigma_diff_rel = load_error_analysis_data_for_file(filename)\n",
    "        \n",
    "        \n",
    "        lambdas_list.append(lambdas)        \n",
    "        norms_K1_fRG_list.append(norms_K1_fRG)\n",
    "        norms_K1_PC_list.append(norms_K1_PC)\n",
    "        K1_diff_abs_list.append(K1_diff_abs)\n",
    "        K1_diff_rel_list.append(K1_diff_rel)\n",
    "        norms_K2_fRG_list.append(norms_K2_fRG)\n",
    "        norms_K2_PC_list.append(norms_K2_PC)\n",
    "        K2_diff_abs_list.append(K2_diff_abs)\n",
    "        K2_diff_rel_list.append(K2_diff_rel)\n",
    "        norms_S_fRG_list.append(norms_S_fRG)\n",
    "        norms_S_PC_list.append(norms_S_PC)\n",
    "        Sigma_diff_abs_list.append(Sigma_diff_abs)\n",
    "        Sigma_diff_rel_list.append(Sigma_diff_rel)\n",
    "    \n",
    "    return lambdas_list, norms_K1_fRG_list, norms_K1_PC_list, K1_diff_abs_list, K1_diff_rel_list, \\\n",
    "            norms_K2_fRG_list, norms_K2_PC_list, K2_diff_abs_list, K2_diff_rel_list, \\\n",
    "            norms_S_fRG_list, norms_S_PC_list, Sigma_diff_abs_list, Sigma_diff_rel_list"
   ]
  },
  {
   "cell_type": "code",
   "execution_count": null,
   "metadata": {},
   "outputs": [],
   "source": [
    "Volt = 0.0\n",
    "Temp = 0.01"
   ]
  },
  {
   "cell_type": "code",
   "execution_count": null,
   "metadata": {},
   "outputs": [],
   "source": [
    "name1 = generate_filename_fRG(path, 1, 1, V=Volt, T=Temp)\n",
    "name2 = generate_filename_fRG(path, 1, 1, sf=True, V=Volt, T=Temp)\n",
    "name3 = generate_filename_fRG(path, 2, 1, V=Volt, T=Temp)\n",
    "name4 = generate_filename_fRG(path, 2, 2, V=Volt, T=Temp)\n",
    "\n",
    "Gammas_list = retrieve_Gammas([name1, name2, name3, name4])\n",
    "\n",
    "name1 = change_prefix(path, EA, name1)\n",
    "name2 = change_prefix(path, EA, name2)\n",
    "name3 = change_prefix(path, EA, name3)\n",
    "name4 = change_prefix(path, EA, name4)\n",
    "\n",
    "filenames_ea=[name1, name2, name3, name4]\n",
    "labels_ea = generate_label(path,filenames_ea)"
   ]
  },
  {
   "cell_type": "code",
   "execution_count": null,
   "metadata": {},
   "outputs": [],
   "source": [
    "lambdas_list, norms_K1_fRG_list, norms_K1_PC_list, K1_diff_abs_list, K1_diff_rel_list, \\\n",
    "norms_K2_fRG_list, norms_K2_PC_list, K2_diff_abs_list, K2_diff_rel_list, \\\n",
    "norms_S_fRG_list, norms_S_PC_list, Sigma_diff_abs_list, Sigma_diff_rel_list = load_error_analysis_data_complete(filenames_ea)"
   ]
  },
  {
   "cell_type": "code",
   "execution_count": null,
   "metadata": {
    "scrolled": true
   },
   "outputs": [],
   "source": [
    "fs = 18\n",
    "fig, ax = plt.subplots(nrows=3, ncols=3, figsize=(36,18))\n",
    "\n",
    "U=1\n",
    "\n",
    "c=cm.viridis(np.linspace(0,0.9, len(filenames_ea), endpoint=True))\n",
    "c_PC=cm.cividis(np.linspace(1./5., 4./5., len(filenames_ea),endpoint=True))\n",
    "\n",
    "\n",
    "for i in range(len(filenames_ea)):\n",
    "    Deltas = (lambdas_list[i] + Gammas_list[i])/2\n",
    "    \n",
    "    ax[0][0].plot(U/Deltas, norms_S_fRG_list[i], '.', label=labels_ea[i] + r'$\\mathrm{-fRG}$', color=c[i])\n",
    "    ax[0][0].plot(U/Deltas, norms_S_PC_list[i] , '.', label=labels_ea[i] + r'$\\mathrm{-SD}$', color=c_PC[i])\n",
    "    ax[0][1].plot(U/Deltas, Sigma_diff_abs_list[i], '.', label=labels_ea[i], color=c[i])\n",
    "    ax[0][2].plot(U/Deltas, Sigma_diff_rel_list[i], '.', label=labels_ea[i], color=c[i])\n",
    "\n",
    "    ax[1][0].plot(U/Deltas, norms_K1_fRG_list[i], '.', label=labels_ea[i] + r'$\\mathrm{-fRG}$', color=c[i])\n",
    "    ax[1][0].plot(U/Deltas, norms_K1_PC_list[i] , '.', label=labels_ea[i] + r'$\\mathrm{-BS}$', color=c_PC[i])\n",
    "    ax[1][1].plot(U/Deltas, K1_diff_abs_list[i] , '.', label=labels_ea[i], color=c[i])\n",
    "    ax[1][2].plot(U/Deltas, K1_diff_rel_list[i] , '.', label=labels_ea[i], color=c[i])\n",
    "    \n",
    "    ax[0][0].set_ylabel(r'$||\\Sigma_{\\mathrm{fRG/SD}}||$',fontsize=fs)\n",
    "    ax[0][1].set_ylabel(r'$||\\Sigma_{\\mathrm{fRG}-\\mathrm{BS}}||$',fontsize=fs)\n",
    "    ax[0][2].set_ylabel(r'$||\\Sigma_{\\mathrm{fRG}-\\mathrm{BS}}||/||\\Sigma_{\\mathrm{fRG}}||$',fontsize=fs)\n",
    "\n",
    "    ax[1][0].set_ylabel(r'$||{\\mathcal{K}_1}_{\\mathrm{fRG/BS}}||$',fontsize=fs)\n",
    "    ax[1][1].set_ylabel(r'$||{\\mathcal{K}_1}_{\\mathrm{fRG}-\\mathrm{BS}}||$',fontsize=fs)\n",
    "    ax[1][2].set_ylabel(r'$||{\\mathcal{K}_1}_{\\mathrm{fRG}-\\mathrm{BS}}||/||{\\mathcal{K}_1}_{\\mathrm{fRG}}||$',fontsize=fs)\n",
    "    \n",
    "    if(filenames_ea[i][len(path+EA)+1] == str(2)):\n",
    "        ax[2][0].plot(U/Deltas, norms_K2_fRG_list[i], '.', label=labels_ea[i] + r'$\\mathrm{-fRG}$', color=c[i])\n",
    "        ax[2][0].plot(U/Deltas, norms_K2_PC_list[i] , '.', label=labels_ea[i] + r'$\\mathrm{-BS}$', color=c_PC[i])\n",
    "        ax[2][1].plot(U/Deltas, K2_diff_abs_list[i] , '.', label=labels_ea[i], color=c[i])\n",
    "        ax[2][2].plot(U/Deltas, K2_diff_rel_list[i] , '.', label=labels_ea[i], color=c[i])\n",
    "\n",
    "        ax[2][0].set_ylabel(r'$||{\\mathcal{K}_2}_{\\mathrm{fRG/BS}}||$',fontsize=fs)\n",
    "        ax[2][1].set_ylabel(r'$||{\\mathcal{K}_2}_{\\mathrm{fRG}-\\mathrm{BS}}||$',fontsize=fs)\n",
    "        ax[2][2].set_ylabel(r'$||{\\mathcal{K}_2}_{\\mathrm{fRG}-\\mathrm{BS}}||/||{\\mathcal{K}_2}_{\\mathrm{fRG}}||$',fontsize=fs)\n",
    "\n",
    "\n",
    "#ax[0][0].set_ylim(1.8,2.4)\n",
    "#ax[1][0].set_ylim(0.4,0.6)\n",
    "\n",
    "for i in range(3):\n",
    "    for j in range(3):\n",
    "        ax[i][j].axvline(1, color='k', label=r'$U=\\Delta$')\n",
    "        ax[i][j].set_xlim(U/Deltas[0], U/Deltas[-1])\n",
    "        ax[i][j].set_xscale(\"log\")\n",
    "        ax[2][j].set_xlabel(r'$U/\\Delta$', fontsize = fs)\n",
    "        ax[i][j].set_yscale(\"log\")\n",
    "        ax[0][j].legend(loc='lower right', fontsize=fs-4)\n",
    "        ax[i][j].tick_params(axis='both', labelsize=fs-1)\n",
    "\n",
    "#ax[1][2].legend(loc='upper right', fontsize=fs-4)\n",
    "\n",
    "plt.savefig(\"Error_analysis_with_K2.pdf\")"
   ]
  },
  {
   "cell_type": "code",
   "execution_count": null,
   "metadata": {},
   "outputs": [],
   "source": []
  }
 ],
 "metadata": {
  "kernelspec": {
   "display_name": "Python 3",
   "language": "python",
   "name": "python3"
  },
  "language_info": {
   "codemirror_mode": {
    "name": "ipython",
    "version": 3
   },
   "file_extension": ".py",
   "mimetype": "text/x-python",
   "name": "python",
   "nbconvert_exporter": "python",
   "pygments_lexer": "ipython3",
   "version": "3.8.2"
  }
 },
 "nbformat": 4,
 "nbformat_minor": 4
}
