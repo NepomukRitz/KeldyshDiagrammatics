{
 "cells": [
  {
   "cell_type": "code",
   "execution_count": null,
   "metadata": {
    "scrolled": true
   },
   "outputs": [],
   "source": [
    "import h5py\n",
    "import numpy as np\n",
    "import matplotlib.pyplot as plt\n",
    "from load_data import load_K1, load_SE_A\n",
    "from plotting_routines import generate_filename_fRG, change_prefix, plot_fRG\n",
    "from mpl_toolkits.mplot3d import Axes3D\n",
    "from matplotlib import cm\n",
    "plt.rc('text', usetex=True)\n",
    "plt.rc('font', family='serif')\n",
    "\n",
    "\n",
    "path = \"../Data/\"\n",
    "PC = \"parquet_check_\"\n",
    "EA = \"error_analysis_\""
   ]
  },
  {
   "cell_type": "code",
   "execution_count": null,
   "metadata": {},
   "outputs": [],
   "source": [
    "filename = generate_filename_fRG(path, 1, 1, L_ini=1000, nODE=100)\n",
    "filename_PC = change_prefix(path, PC, filename)\n",
    "filename_EA = change_prefix(path, EA, filename)"
   ]
  },
  {
   "cell_type": "code",
   "execution_count": null,
   "metadata": {},
   "outputs": [],
   "source": [
    "w_fRG, K1a_fRG, K1p_fRG, K1t_fRG = load_K1(filename)\n",
    "w_PC , K1a_PC , K1p_PC , K1t_PC  = load_K1(filename_PC)\n",
    "\n",
    "v_fRG, SE_fRG, A_fRG = load_SE_A(filename)\n",
    "v_PC , SE_PC , A_PC  = load_SE_A(filename_PC)"
   ]
  },
  {
   "cell_type": "code",
   "execution_count": null,
   "metadata": {},
   "outputs": [],
   "source": [
    "with h5py.File(path+filename_EA, 'r') as f:\n",
    "    lambdas = np.array(f['lambdas'])\n",
    "    norms_K1_fRG = np.array(f['norm_K1_fRG'])\n",
    "    norms_K1_PC  = np.array(f['norm_K1_BSE'])\n",
    "    K1_diff_abs = np.array(f['K1_diff_abs'])\n",
    "    K1_diff_rel = np.array(f['K1_diff_rel'])\n",
    "    \n",
    "    norms_K2_fRG = np.array(f['norm_K2_fRG'])\n",
    "    norms_K2_PC  = np.array(f['norm_K2_BSE'])\n",
    "    K2_diff_abs = np.array(f['K2_diff_abs'])\n",
    "    K2_diff_rel = np.array(f['K2_diff_rel'])\n",
    "                            \n",
    "    norms_S_fRG = np.array(f['norm_S_fRG'])\n",
    "    norms_S_PC  = np.array(f['norm_S_SDE'])\n",
    "    Sigma_diff_abs = np.array(f['Sigma_diff_abs'])\n",
    "    Sigma_diff_rel = np.array(f['Sigma_diff_rel'])"
   ]
  },
  {
   "cell_type": "code",
   "execution_count": null,
   "metadata": {},
   "outputs": [],
   "source": [
    "\n",
    "\n",
    "\n",
    "\n",
    "# real part of spin susceptibility (retarded comp. of K1a)\n",
    "ax[0][0].plot(w_fRG, K1a_fRG[0].real, label='fRG')\n",
    "ax[0][0].plot(w_PC , K1a_PC[0].real, label='BSE')\n",
    "\n",
    "# imag part of spin susceptibility (retarded comp. of K1a = -advanced comp. of K1a)\n",
    "ax[0][1].plot(w_fRG, -K1a_fRG[0].imag, label='fRG')\n",
    "ax[0][1].plot(w_PC, -K1a_PC[0].imag, label='BSE')\n",
    "\n",
    "#real part of the self energy\n",
    "ax[1][0].plot(v_fRG, SE_fRG[0].real, label='fRG')\n",
    "ax[1][0].plot(v_PC , SE_PC[0].real, label='BSE')\n",
    "#imag part of the self energy\n",
    "ax[1][1].plot(v_fRG, SE_fRG[0].imag, label='fRG')\n",
    "ax[1][1].plot(v_PC , SE_PC[0].imag, label='BSE')\n",
    "\n",
    "ax[0][0].set_ylabel(r'$\\mathrm{Re}(\\chi_\\mathrm{sp}(\\omega))$', fontsize=fs)\n",
    "ax[0][1].set_ylabel(r'$\\mathrm{Im}(\\chi_\\mathrm{sp}(\\omega))$', fontsize=fs)\n",
    "ax[1][0].set_ylabel(r'$\\mathrm{Re}(\\Sigma^R(\\nu))$', fontsize=fs)\n",
    "ax[1][1].set_ylabel(r'$\\mathrm{Im}(\\Sigma^R(\\nu))$', fontsize=fs)\n",
    "\n",
    "for i in range(2):\n",
    "    ax[0][i].set_xlim(w_fRG[0], w_fRG[-1])\n",
    "    ax[0][i].set_xlabel(r'$\\omega/\\Gamma$', fontsize=fs)\n",
    "    \n",
    "    ax[1][i].set_xlim(v_fRG[0], v_fRG[-1])\n",
    "    ax[1][i].set_xlabel(r'$\\nu/\\Gamma$', fontsize=fs)\n",
    "    \n",
    "    ax[0][i].tick_params(axis='both', labelsize=fs-1)\n",
    "    ax[1][i].tick_params(axis='both', labelsize=fs-1)\n",
    "\n",
    "    ax[i][0].legend(fontsize=fs)\n",
    "    \n",
    "\n",
    "fig.tight_layout(pad=3.0)\n",
    "\n",
    "plt.savefig(\"spin_susc@Lambda=\"+str(lambdas[0])+\".pdf\")\n"
   ]
  },
  {
   "cell_type": "code",
   "execution_count": null,
   "metadata": {},
   "outputs": [],
   "source": [
    "fs = 18\n",
    "fig, ax = plt.subplots(nrows=2, ncols=3, figsize=(36,12))\n",
    "\n",
    "Deltas = (lambdas + 0.2)/2\n",
    "\n",
    "ax[0][0].plot(Deltas, norms_K1_fRG, '.', label=r'$||\\mathrm{fRG}||$')\n",
    "ax[0][0].plot(Deltas, norms_K1_PC , '.', label=r'$||\\mathrm{BS }||$')\n",
    "ax[0][1].plot(Deltas, K1_diff_abs, '.', label=r'$||\\mathrm{fRG-BS}||$')\n",
    "ax[0][2].plot(Deltas, K1_diff_rel, '.', label=r'$\\frac{||\\mathrm{fRG-BS}||}{||\\mathrm{fRG}||}$')\n",
    "\n",
    "ax[1][0].plot(Deltas, norms_S_fRG, '.', label=r'$||\\mathrm{fRG}||$')\n",
    "ax[1][0].plot(Deltas, norms_S_PC , '.', label=r'$||\\mathrm{SD }||$')\n",
    "ax[1][1].plot(Deltas, Sigma_diff_abs, '.', label=r'$||\\mathrm{fRG-SD}||$')\n",
    "ax[1][2].plot(Deltas, Sigma_diff_rel, '.', label=r'$\\frac{||\\mathrm{fRG-SD}||}{||\\mathrm{fRG}||}$')\n",
    "\n",
    "\n",
    "ax[0][0].set_ylabel(r'$||\\Gamma_{\\mathrm{fRG/BS}}||$',fontsize=fs)\n",
    "ax[0][1].set_ylabel(r'$||\\Gamma_{\\mathrm{fRG}-\\mathrm{BS}}||$',fontsize=fs)\n",
    "ax[0][2].set_ylabel(r'$||\\Gamma_{\\mathrm{fRG}-\\mathrm{BS}}||/||\\Gamma_{\\mathrm{fRG}}||$',fontsize=fs)\n",
    "ax[1][0].set_ylabel(r'$||\\Sigma_{\\mathrm{fRG/SD}}||$',fontsize=fs)\n",
    "ax[1][1].set_ylabel(r'$||\\Sigma_{\\mathrm{fRG}-\\mathrm{BS}}||$',fontsize=fs)\n",
    "ax[1][2].set_ylabel(r'$||\\Sigma_{\\mathrm{fRG}-\\mathrm{BS}}||/||\\Sigma_{\\mathrm{fRG}}||$',fontsize=fs)\n",
    "\n",
    "\n",
    "#ax[0][0].set_ylim(1.8,2.4)\n",
    "#ax[1][0].set_ylim(0.4,0.6)\n",
    "\n",
    "for i in range(2):\n",
    "    for j in range(3):\n",
    "        ax[i][j].axvline(1, color='k', label=r'$U=\\Delta$')\n",
    "        ax[i][j].set_xlim(Deltas[0], Deltas[-1])\n",
    "        ax[i][j].set_xscale(\"log\")\n",
    "        ax[1][j].set_xlabel(r'$\\Delta$', fontsize = fs)\n",
    "        ax[i][j].set_yscale(\"log\")\n",
    "        ax[i][j].legend(loc='lower right', fontsize=fs-4)\n",
    "        ax[i][j].tick_params(axis='both', labelsize=fs-1)\n",
    "\n",
    "\n",
    "\n",
    "plt.savefig(\"error_analysis_in_Delta_nODE=100.pdf\")"
   ]
  }
 ],
 "metadata": {
  "kernelspec": {
   "display_name": "Python 3",
   "language": "python",
   "name": "python3"
  },
  "language_info": {
   "codemirror_mode": {
    "name": "ipython",
    "version": 3
   },
   "file_extension": ".py",
   "mimetype": "text/x-python",
   "name": "python",
   "nbconvert_exporter": "python",
   "pygments_lexer": "ipython3",
   "version": "3.8.2"
  }
 },
 "nbformat": 4,
 "nbformat_minor": 4
}
