{
 "cells": [
  {
   "cell_type": "code",
   "execution_count": null,
   "metadata": {
    "scrolled": true
   },
   "outputs": [],
   "source": [
    "import h5py\n",
    "import numpy as np\n",
    "import matplotlib.pyplot as plt\n",
    "from load_data import load_data, load_SIAM_NRG\n",
    "from plotting_routines import generate_filename_fRG, generate_label\n",
    "from mpl_toolkits.mplot3d import Axes3D\n",
    "from matplotlib import cm\n",
    "from matplotlib.ticker import MaxNLocator\n",
    "from itertools import product\n",
    "import heapq\n",
    "\n",
    "plt.rc('text', usetex=True)\n",
    "plt.rc('font', family='serif')\n",
    "\n",
    "path = \"C:/Users/aguir/Documents/Data_Thesis_Local/\""
   ]
  },
  {
   "cell_type": "code",
   "execution_count": null,
   "metadata": {},
   "outputs": [],
   "source": [
    "with h5py.File(path + 'SIAM_NRG.h5', 'r') as f:\n",
    "    print(f.keys())"
   ]
  },
  {
   "cell_type": "code",
   "execution_count": null,
   "metadata": {},
   "outputs": [],
   "source": [
    "def log_subst(x):\n",
    "    return np.log10(1 + x*200.);"
   ]
  },
  {
   "cell_type": "code",
   "execution_count": null,
   "metadata": {},
   "outputs": [],
   "source": [
    "def log_resubst(X):\n",
    "    return 1./200.*(pow(10, X) - 1);"
   ]
  },
  {
   "cell_type": "code",
   "execution_count": null,
   "metadata": {},
   "outputs": [],
   "source": [
    "def reconstruct_flow_grid(Lambda_ini, Lambda_fin, nODE):\n",
    "    X_ini = log_subst(Lambda_ini)\n",
    "    X_fin = log_subst(Lambda_fin)\n",
    "    X = np.linspace(X_ini, X_fin, nODE, endpoint=True)\n",
    "    return log_resubst(X)"
   ]
  },
  {
   "cell_type": "code",
   "execution_count": null,
   "metadata": {},
   "outputs": [],
   "source": [
    "def log_derivative_of_log_f(f, x):\n",
    "    logx = np.log10(x)\n",
    "    logf = np.log10(f)\n",
    "    \n",
    "    dlogx = np.zeros(len(logx)-1)\n",
    "    dlogf = np.zeros(len(logf)-1)\n",
    "    for i in range(len(dlogx)):\n",
    "        dlogx[i] = logx[i+1] - logx[i]\n",
    "        dlogf[i] = logf[i+1] - logf[i]\n",
    "    return dlogf/dlogx"
   ]
  },
  {
   "cell_type": "code",
   "execution_count": null,
   "metadata": {},
   "outputs": [],
   "source": [
    "def interpolate(f, grid, x):\n",
    "    diff = abs(grid-x)\n",
    "    smallest_diff = min(diff)\n",
    "    second_smallest_diff = heapq.nsmallest(2, diff)[-1]\n",
    "    \n",
    "    i1 = np.where(diff==smallest_diff)[0][0]\n",
    "    i2 = np.where(diff==second_smallest_diff)[0][0]\n",
    "    \n",
    "    f1 = f[i1]\n",
    "    f2 = f[i2]\n",
    "    \n",
    "    return f1 + (f2-f1)/(grid[i2]-grid[i1]) * (x-grid[i1])"
   ]
  },
  {
   "cell_type": "code",
   "execution_count": null,
   "metadata": {},
   "outputs": [],
   "source": [
    "U_NRG_list = [0,0.05, 0.1, 0.2, 0.5, 0.75, 1, 1.25, 1.5, 1.75, 2, 2.25, 2.5, 3]\n",
    "U_NRG_vector = np.array(U_NRG_list)\n",
    "\n",
    "Deltas_NRG = 1/(2*U_NRG_vector)"
   ]
  },
  {
   "cell_type": "code",
   "execution_count": null,
   "metadata": {},
   "outputs": [],
   "source": [
    "Lambdas = reconstruct_flow_grid(1000, 0, 50)\n",
    "Gamma = 1./3.\n",
    "Deltas_fRG = (Lambdas + Gamma)/2\n",
    "U_fRG = 1/(2*Deltas_fRG)\n",
    "#U_fRG = np.append(U_fRG, U_NRG)\n",
    "#U_fRG.sort()\n",
    "#Deltas_fRG = 1/(2*U_fRG)\n"
   ]
  },
  {
   "cell_type": "code",
   "execution_count": null,
   "metadata": {},
   "outputs": [],
   "source": [
    "K1 = generate_filename_fRG(path, 1, 1)\n",
    "K1_sf = generate_filename_fRG(path, 1, 1, sf=True)\n",
    "K2_1L = generate_filename_fRG(path, 2,1)\n",
    "K2_2L = generate_filename_fRG(path, 2,2)"
   ]
  },
  {
   "cell_type": "code",
   "execution_count": null,
   "metadata": {},
   "outputs": [],
   "source": [
    "filenames = [K1, K1_sf, K2_1L, K2_2L]\n",
    "labels = generate_label(path, filenames)"
   ]
  },
  {
   "cell_type": "code",
   "execution_count": null,
   "metadata": {},
   "outputs": [],
   "source": [
    "SER_0_K1    = np.zeros(len(U_fRG))\n",
    "SER_0_K1_sf = np.zeros(len(U_fRG))\n",
    "SER_0_K2_1L = np.zeros(len(U_fRG))\n",
    "SER_0_K2_2L = np.zeros(len(U_fRG))\n",
    "\n",
    "K1aR_0_K1    = np.zeros(len(U_fRG))\n",
    "K1aR_0_K1_sf = np.zeros(len(U_fRG))\n",
    "K1aR_0_K2_1L = np.zeros(len(U_fRG))\n",
    "K1aR_0_K2_2L = np.zeros(len(U_fRG))\n",
    "\n",
    "K1pR_0_K1    = np.zeros(len(U_fRG))\n",
    "K1pR_0_K1_sf = np.zeros(len(U_fRG))\n",
    "K1pR_0_K2_1L = np.zeros(len(U_fRG))\n",
    "K1pR_0_K2_2L = np.zeros(len(U_fRG))\n",
    "\n",
    "K1tR_0_K1    = np.zeros(len(U_fRG))\n",
    "K1tR_0_K1_sf = np.zeros(len(U_fRG))\n",
    "K1tR_0_K2_1L = np.zeros(len(U_fRG))\n",
    "K1tR_0_K2_2L = np.zeros(len(U_fRG))\n",
    "\n",
    "Gamma_NRG = 1\n",
    "\n",
    "for i in range(len(U_fRG)):\n",
    "    U_NRG = U_fRG[i]\n",
    "    Delta_NRG = Gamma_NRG/2\n",
    "    \n",
    "    _, _, _, _, _, _, _, Delta_list, _, _, v_list, Sigma_list,\\\n",
    "    _, w_list, K1a_list, K1p_list, K1t_list, _, _, _, _, _ = load_data(U_NRG, Delta_NRG, filenames)\n",
    "    \n",
    "    v = np.array(v_list[0])\n",
    "    w = np.array(v_list[0])\n",
    "\n",
    "    iv = np.where(v==0)[0][0]\n",
    "    iw = np.where(w==0)[0][0]\n",
    "    \n",
    "    SER_0_K1[i]    = (Sigma_list[0][0][iv+1].real - Sigma_list[0][0][iv-1].real)/((v[iv+1]) - v[iv-1])\n",
    "    SER_0_K1_sf[i] = (Sigma_list[1][0][iv+1].real - Sigma_list[1][0][iv-1].real)/((v[iv+1]) - v[iv-1])\n",
    "    SER_0_K2_1L[i] = (Sigma_list[2][0][iv+1].real - Sigma_list[2][0][iv-1].real)/((v[iv+1]) - v[iv-1])\n",
    "    SER_0_K2_2L[i] = (Sigma_list[3][0][iv+1].real - Sigma_list[3][0][iv-1].real)/((v[iv+1]) - v[iv-1])\n",
    "    \n",
    "    K1aR_0_K1[i]    = K1a_list[0][0][iw].real\n",
    "    K1aR_0_K1_sf[i] = K1a_list[1][0][iw].real\n",
    "    K1aR_0_K2_1L[i] = K1a_list[2][0][iw].real\n",
    "    K1aR_0_K2_2L[i] = K1a_list[3][0][iw].real\n",
    "    \n",
    "    K1pR_0_K1[i]    = K1p_list[0][0][iw].real\n",
    "    K1pR_0_K1_sf[i] = K1p_list[1][0][iw].real\n",
    "    K1pR_0_K2_1L[i] = K1p_list[2][0][iw].real\n",
    "    K1pR_0_K2_2L[i] = K1p_list[3][0][iw].real\n",
    "    \n",
    "    K1tR_0_K1[i]    = K1t_list[0][0][iw].real\n",
    "    K1tR_0_K1_sf[i] = K1t_list[1][0][iw].real\n",
    "    K1tR_0_K2_1L[i] = K1t_list[2][0][iw].real\n",
    "    K1tR_0_K2_2L[i] = K1t_list[3][0][iw].real\n",
    "    \n",
    "    "
   ]
  },
  {
   "cell_type": "code",
   "execution_count": null,
   "metadata": {},
   "outputs": [],
   "source": [
    "chi_sp_K1 = -K1aR_0_K1\n",
    "chi_sp_K1_sf = -K1aR_0_K1_sf\n",
    "chi_sp_K2_1L = -K1aR_0_K2_1L\n",
    "chi_sp_K2_2L = -K1aR_0_K2_2L\n",
    "\n",
    "chi_ch_K1 = 2*K1tR_0_K1 - K1aR_0_K1\n",
    "chi_ch_K1_sf = 2*K1tR_0_K1_sf - K1aR_0_K1_sf\n",
    "chi_ch_K2_1L = 2*K1tR_0_K2_1L - K1aR_0_K2_1L\n",
    "chi_ch_K2_2L = 2*K1tR_0_K2_2L - K1aR_0_K2_2L"
   ]
  },
  {
   "cell_type": "code",
   "execution_count": null,
   "metadata": {
    "scrolled": true
   },
   "outputs": [],
   "source": [
    "SE_NRG = np.zeros(len(U_NRG_vector))\n",
    "K1a_NRG = np.zeros(len(U_NRG_vector))\n",
    "K1p_NRG = np.zeros(len(U_NRG_vector))\n",
    "K1t_NRG = np.zeros(len(U_NRG_vector))\n",
    "\n",
    "for i in range(len(U_NRG_list)):\n",
    "    U_NRG = U_NRG_list[i]\n",
    "    \n",
    "    _, w_NRG, _, SE_re, _, K1a_re, _, K1p_re, _, K1t_re, _ = load_SIAM_NRG(U_NRG, path)\n",
    "    \n",
    "    iwNRG = int(len(w_NRG)/2)\n",
    "    \n",
    "    ivNRG_m = np.where(w_NRG > v[iv-1])[0][0]\n",
    "    ivNRG_p = np.where(w_NRG > v[iv+1])[0][0]\n",
    "    \n",
    "    SE_NRG[i] = (SE_re[ivNRG_p] - SE_re[ivNRG_m])/(w_NRG[ivNRG_p] - w_NRG[ivNRG_m])\n",
    "    K1a_NRG[i] = (K1a_re[iwNRG] + K1a_re[iwNRG+1])*0.5*U_NRG**2  \n",
    "    K1p_NRG[i] = (K1p_re[iwNRG] + K1p_re[iwNRG+1])*0.5*U_NRG**2\n",
    "    K1t_NRG[i] = (K1t_re[iwNRG] + K1t_re[iwNRG+1])*0.5*U_NRG**2\n",
    "\n",
    "    "
   ]
  },
  {
   "cell_type": "code",
   "execution_count": null,
   "metadata": {},
   "outputs": [],
   "source": [
    "chi_sp_NRG = -K1a_NRG * Deltas_NRG *2\n",
    "chi_ch_NRG = (2*K1t_NRG - K1a_NRG) * Deltas_NRG *2\n"
   ]
  },
  {
   "cell_type": "code",
   "execution_count": null,
   "metadata": {},
   "outputs": [],
   "source": [
    "Z_K1    = 1/(1-SER_0_K1)\n",
    "Z_K1_sf = 1/(1-SER_0_K1_sf)\n",
    "Z_K2_1L = 1/(1-SER_0_K2_1L)\n",
    "Z_K2_2L = 1/(1-SER_0_K2_2L)\n",
    "Z_NRG = 1/(1-SE_NRG)"
   ]
  },
  {
   "cell_type": "code",
   "execution_count": null,
   "metadata": {},
   "outputs": [],
   "source": [
    "fs = 32\n",
    "lw=4\n",
    "\n",
    "abss = True\n",
    "diff = False\n",
    "\n",
    "\n",
    "if abss:\n",
    "    fig, ax = plt.subplots(nrows=1, ncols=3, figsize=(20, 5))\n",
    "\n",
    "    ax[0].plot(1/Deltas_fRG, (chi_sp_K1*np.pi*Deltas_fRG), '.-', label=labels[0], color='tab:blue', linewidth=lw)\n",
    "    ax[0].plot(1/Deltas_fRG, (chi_sp_K2_1L*np.pi*Deltas_fRG), '.-', label=labels[2], color='tab:green', linewidth=lw)\n",
    "    ax[0].plot(1/Deltas_fRG, (chi_sp_K2_2L*np.pi*Deltas_fRG), '.-', label=labels[3], color='tab:red', linewidth=lw)\n",
    "    ax[0].plot(U_NRG_vector/(1./2.),  chi_sp_NRG * np.pi*Deltas_NRG, '.-', label='NRG', color='k', linewidth=0.5*lw)\n",
    "    \n",
    "    ax[1].plot(1/Deltas_fRG, (chi_ch_K1*np.pi*Deltas_fRG), '.-', label=labels[0], color='tab:blue', linewidth=lw)\n",
    "    ax[1].plot(1/Deltas_fRG, (chi_ch_K2_1L*np.pi*Deltas_fRG), '.-', label=labels[2], color='tab:green', linewidth=lw)\n",
    "    ax[1].plot(1/Deltas_fRG, (chi_ch_K2_2L*np.pi*Deltas_fRG), '.-', label=labels[3], color='tab:red', linewidth=lw)\n",
    "    ax[1].plot(U_NRG_vector/(1./2.), chi_ch_NRG * np.pi*Deltas_NRG, '.-', label='NRG', color='k', linewidth=0.5*lw)\n",
    "    ax[1].set_ylim(0.1, 0.6)\n",
    "    \n",
    "    ax[0].set_ylabel(r'${\\chi^R_{\\mathrm{sp}}(\\omega=0)}\\pi\\Delta$', fontsize=fs)\n",
    "    ax[1].set_ylabel(r'${\\chi^R_{\\mathrm{ch}}(\\omega=0)}\\pi\\Delta$', fontsize=fs)\n",
    "    \n",
    "    \n",
    "       \n",
    "    ax[2].plot(1/Deltas_fRG, Z_K1, '.-', label=labels[0], color='tab:blue', linewidth=lw)\n",
    "    ax[2].plot(1/Deltas_fRG, Z_K2_1L, '.-', label=labels[2], color='tab:green', linewidth=lw)\n",
    "    ax[2].plot(1/Deltas_fRG, Z_K2_2L, '.-', label=labels[3], color='tab:red', linewidth=lw)\n",
    "    ax[2].plot(2*U_NRG_vector, Z_NRG, '.-',color='k', label='NRG', linewidth=0.5*lw)\n",
    "        \n",
    "    ax[2].set_ylabel(r'$Z$', fontsize=fs)\n",
    "    ax[2].set_xscale('log')\n",
    "    \n",
    "    for i in range(3):\n",
    "        ax[i].xaxis.set_major_locator(MaxNLocator(5))\n",
    "        ax[i].set_xlim(1/Deltas_NRG[1], 1/Deltas_NRG[-2])\n",
    "        ax[i].set_xlabel(r'$U/\\Delta$', fontsize=fs)\n",
    "        ax[i].tick_params(axis='both', labelsize=fs-4)\n",
    "\n",
    "    ax[2].legend(fontsize=fs-4, frameon=False)\n",
    "    \n",
    "    plt.tight_layout()\n",
    "    plt.savefig(\"Error_analysis.pdf\", bbox_inches='tight')\n",
    "    \n",
    "    \n",
    "    \n",
    "if diff:\n",
    "    nrg_compare_chi = np.zeros(len(K1aR_0_K1))\n",
    "    nrg_compare_Z = np.zeros(len(Z_K1))\n",
    "    \n",
    "    for index in range(len(Deltas_fRG)):\n",
    "        nrg_compare_chi[index] = interpolate(chi_sp_NRG, 2*U_NRG_vector, 1/Deltas_fRG[index] )\n",
    "        nrg_compare_Z[index] = interpolate(Z_NRG, 2*U_NRG_vector, 1/Deltas_fRG[index] )\n",
    "\n",
    "        \n",
    "    fig, ax = plt.subplots(nrows=1, ncols=2, figsize=(15, 5))\n",
    "\n",
    "    ax[0].plot(1/Deltas_fRG, (chi_sp_K1 - nrg_compare_chi)*np.pi*Deltas_fRG, '.-', label=labels[0], color='tab:blue', linewidth=lw)\n",
    "    ax[0].plot(1/Deltas_fRG, (chi_sp_K2_1L - nrg_compare_chi)*np.pi*Deltas_fRG, '.-', label=labels[2], color='tab:green', linewidth=lw)\n",
    "    ax[0].plot(1/Deltas_fRG, (chi_sp_K2_2L - nrg_compare_chi)*np.pi*Deltas_fRG, '.-', label=labels[3], color='tab:red', linewidth=lw)\n",
    "    ax[0].set_ylabel(r'${\\chi^R_{\\mathrm{sp}}(\\omega=0)}_{\\mathrm{fRG-NRG}}\\pi\\Delta$', fontsize=fs)    \n",
    "        \n",
    "    ax[1].plot(1/Deltas_fRG, Z_K1-nrg_compare_Z, '.-', label=labels[0], color='tab:blue', linewidth=lw)\n",
    "    #x[i].plot(1/Deltas_fRG, Z_K1_sf-nrg_compare, '.-', label=labels[1], color='tab:orange', linewidth=lw)\n",
    "    ax[1].plot(1/Deltas_fRG, Z_K2_1L-nrg_compare_Z, '.-', label=labels[2], color='tab:green', linewidth=lw)\n",
    "    ax[1].plot(1/Deltas_fRG, Z_K2_2L-nrg_compare_Z, '.-', label=labels[3], color='tab:red', linewidth=lw)\n",
    "    ax[1].set_ylabel(r'$Z_{\\mathrm{fRG-NRG}}$', fontsize=fs)\n",
    "\n",
    "    \n",
    "    for i in range(2):\n",
    "        ax[i].set_xlim(1/Deltas_NRG[1], 1/Deltas_NRG[-2])\n",
    "        ax[i].set_xlabel(r'$U/\\Delta$', fontsize=fs)\n",
    "        ax[i].tick_params(axis='both', labelsize=fs-4)\n",
    "    \n",
    "    \n",
    "    ax[2].legend(fontsize=fs-4, frameon=False)\n",
    "    plt.tight_layout()\n",
    "    fig.savefig(\"Error_analysis_diff.pdf\", bbox_inches='tight')\n",
    "plt.show()"
   ]
  },
  {
   "cell_type": "code",
   "execution_count": null,
   "metadata": {},
   "outputs": [],
   "source": []
  },
  {
   "cell_type": "code",
   "execution_count": null,
   "metadata": {},
   "outputs": [],
   "source": []
  },
  {
   "cell_type": "code",
   "execution_count": null,
   "metadata": {},
   "outputs": [],
   "source": [
    "fs = 26\n",
    "fig, ax = plt.subplots(nrows=1, ncols=2, figsize=(15,5))\n",
    "plt.rcParams['legend.title_fontsize'] = fs\n",
    "plt.rcParams[\"legend.columnspacing\"] = '0.1'\n",
    "\n",
    "ax[0].plot(1/Deltas_fRG, (chi_sp_K1 + chi_ch_K1)*np.pi*Deltas_fRG, '.-', label=r'$\\,$', color='tab:blue', linewidth=lw)  \n",
    "ax[0].plot(1/Deltas_fRG, (chi_sp_K2_1L + chi_ch_K2_1L)*np.pi*Deltas_fRG, '.-', label= r'$\\,$', color='tab:green', linewidth=lw)\n",
    "ax[0].plot(1/Deltas_fRG, (chi_sp_K2_2L + chi_ch_K2_2L)*np.pi*Deltas_fRG, '.-', label= r'$\\,$', color='tab:red', linewidth=lw)\n",
    "ax[0].plot(2*U_NRG_vector, (chi_sp_NRG + chi_ch_NRG)  * np.pi*Deltas_NRG, '.-', label=r'$\\,$', color='k', linewidth=0.5*lw)\n",
    "\n",
    "ax[0].plot(1/Deltas_fRG, 1/Z_K1, '--', label=labels[0], color='tab:blue', linewidth=lw)\n",
    "ax[0].plot(1/Deltas_fRG, 1/Z_K2_1L, '--', label=labels[2], color='tab:green', linewidth=lw)\n",
    "ax[0].plot(1/Deltas_fRG, 1/Z_K2_2L, '--', label=labels[3], color='tab:red', linewidth=lw)\n",
    "ax[0].plot(2*U_NRG_vector, 1/Z_NRG, '--', label='NRG', color='k', linewidth=0.5*lw)\n",
    "\n",
    "ax[1].plot(1/Deltas_fRG, (chi_sp_K1 - chi_ch_K1)*np.pi*Deltas_fRG, '.-', label=labels[0], color='tab:blue', linewidth=lw)  \n",
    "ax[1].plot(1/Deltas_fRG, (chi_sp_K2_1L - chi_ch_K2_1L)*np.pi*Deltas_fRG, '.-', label=labels[2], color='tab:green', linewidth=lw)\n",
    "ax[1].plot(1/Deltas_fRG, (chi_sp_K2_2L - chi_ch_K2_2L)*np.pi*Deltas_fRG, '.-', label=labels[3], color='tab:red', linewidth=lw)\n",
    "ax[1].plot(2*U_NRG_vector, (chi_sp_NRG - chi_ch_NRG)  * np.pi*Deltas_NRG, '.-', label='NRG', color='k', linewidth=0.5*lw)\n",
    "\n",
    "\n",
    "#ax.set_xscale('log')        \n",
    "\n",
    "for i in range(2):\n",
    "    ax[i].set_xlim(1/Deltas_NRG[1], 1/Deltas_NRG[-2])\n",
    "    ax[i].set_xlabel(r'$U/\\Delta$', fontsize=fs)\n",
    "    ax[i].tick_params(axis='both', labelsize=fs-4)\n",
    "\n",
    "ax[0].set_ylim(0.5, 4)\n",
    "ax[1].set_ylim(0, 4)\n",
    "\n",
    "    \n",
    "ax[0].set_ylabel(r'${\\chi^R_{\\mathrm{e}}(\\omega=0)}\\pi\\Delta$ , $Z^{-1}$', fontsize=fs)\n",
    "ax[1].set_ylabel(r'${\\chi^R_{\\mathrm{o}}(\\omega=0)}\\pi\\Delta$', fontsize=fs)\n",
    "l= ax[0].legend(fontsize=fs-4, ncol=2, title=r'  $\\chi_{\\mathrm{e/o}}\\quad \\quad Z^{-1}$', frameon=False)\n",
    "l._legend_box.align = \"left\"\n",
    "\n",
    "plt.tight_layout()\n",
    "fig.savefig(\"Error_analysis_ward.pdf\", bbox_inches='tight')"
   ]
  },
  {
   "cell_type": "code",
   "execution_count": null,
   "metadata": {},
   "outputs": [],
   "source": []
  }
 ],
 "metadata": {
  "kernelspec": {
   "display_name": "Python 3",
   "language": "python",
   "name": "python3"
  },
  "language_info": {
   "codemirror_mode": {
    "name": "ipython",
    "version": 3
   },
   "file_extension": ".py",
   "mimetype": "text/x-python",
   "name": "python",
   "nbconvert_exporter": "python",
   "pygments_lexer": "ipython3",
   "version": "3.8.3"
  }
 },
 "nbformat": 4,
 "nbformat_minor": 4
}
