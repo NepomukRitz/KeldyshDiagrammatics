{
 "cells": [
  {
   "cell_type": "code",
   "execution_count": null,
   "metadata": {},
   "outputs": [],
   "source": [
    "from plotting_routines import generate_filename_fRG, change_prefix, plot_fRG\n",
    "import numpy as np\n",
    "import matplotlib.pyplot as plt\n",
    "import h5py\n",
    "\n",
    "path_fRG = \"../Data/\"\n",
    "path_NRG = path_fRG\n",
    "\n",
    "ea = \"error_analysis_\"\n",
    "PC = \"parquet_check_\""
   ]
  },
  {
   "cell_type": "code",
   "execution_count": null,
   "metadata": {},
   "outputs": [],
   "source": [
    "name1 = generate_filename_fRG(path_fRG, 1,1, L_ini=950, nODE=108)\n",
    "#name2 = generate_filename_fRG(path_fRG, 1,1, sf=True, L_ini=950, nODE=108)\n",
    "name3 = generate_filename_fRG(path_fRG, 2,1, n2=151, L_ini=950, nODE=108)\n",
    "name4 = generate_filename_fRG(path_fRG, 2,2, n2=151, L_ini=950, nODE=108)\n",
    "\n",
    "name = generate_filename_fRG(path_fRG, 1, 1, V=0.5, L_ini=950, nODE=108)\n",
    "name_PC = change_prefix(path_fRG, PC, name)"
   ]
  },
  {
   "cell_type": "code",
   "execution_count": null,
   "metadata": {},
   "outputs": [],
   "source": [
    "U_NRG = 2\n",
    "filenames = [name1, name, name_PC, name3, name4]\n",
    "labels = [r\"1\", r\"2\", r\"$2_\\mathrm{PC}$\", \"4\", \"22\"]\n",
    "\n",
    "typ = \"susc_sp\"\n",
    "iK = 0\n",
    "\n",
    "NRG_info = [U_NRG, path_NRG]\n",
    "\n",
    "fig, ax = plot_fRG(typ, iK, filenames, labels, NRG_info)\n",
    "\n",
    "Delta = 0.5\n",
    "\n",
    "\n",
    "plt.show()\n",
    "fig.savefig(\"__\" + typ + str(U_NRG/Delta)+\".pdf\")"
   ]
  },
  {
   "cell_type": "code",
   "execution_count": null,
   "metadata": {},
   "outputs": [],
   "source": [
    "with h5py.File(\"../Data/SIAM_NRG.h5\", 'r') as f:\n",
    "    print(f.keys())"
   ]
  },
  {
   "cell_type": "code",
   "execution_count": null,
   "metadata": {},
   "outputs": [],
   "source": [
    "print(typ[0:7])"
   ]
  },
  {
   "cell_type": "code",
   "execution_count": null,
   "metadata": {},
   "outputs": [],
   "source": []
  }
 ],
 "metadata": {
  "kernelspec": {
   "display_name": "Python 3",
   "language": "python",
   "name": "python3"
  },
  "language_info": {
   "codemirror_mode": {
    "name": "ipython",
    "version": 3
   },
   "file_extension": ".py",
   "mimetype": "text/x-python",
   "name": "python",
   "nbconvert_exporter": "python",
   "pygments_lexer": "ipython3",
   "version": "3.8.2"
  }
 },
 "nbformat": 4,
 "nbformat_minor": 4
}
