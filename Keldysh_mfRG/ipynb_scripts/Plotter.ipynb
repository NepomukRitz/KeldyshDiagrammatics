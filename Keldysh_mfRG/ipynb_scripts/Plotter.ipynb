{
 "cells": [
  {
   "cell_type": "code",
   "execution_count": null,
   "metadata": {},
   "outputs": [],
   "source": [
    "from plotting_routines import generate_filename_fRG, change_prefix, plot_fRG, generate_label\n",
    "import numpy as np\n",
    "import matplotlib.pyplot as plt\n",
    "import h5py\n",
    "\n",
    "path_fRG = \"../Data/\"\n",
    "path_NRG = path_fRG\n",
    "\n",
    "ea = \"error_analysis_\"\n",
    "PC = \"parquet_check_\""
   ]
  },
  {
   "cell_type": "code",
   "execution_count": null,
   "metadata": {},
   "outputs": [],
   "source": [
    "def add_PC_to(labels):\n",
    "    PC_labels = []\n",
    "    for label in labels:\n",
    "        s = list(label)\n",
    "        s.insert(1, '\\mathrm{PC}_{')\n",
    "        s.insert(-1, '}')\n",
    "        PC_labels.append(\"\".join(s))\n",
    "        \n",
    "    return PC_labels"
   ]
  },
  {
   "cell_type": "code",
   "execution_count": null,
   "metadata": {},
   "outputs": [],
   "source": [
    "Volt = 0.0\n",
    "Temp = 0.01"
   ]
  },
  {
   "cell_type": "code",
   "execution_count": null,
   "metadata": {},
   "outputs": [],
   "source": [
    "K1    = generate_filename_fRG(path_fRG, 1,1, V=Volt)\n",
    "K1_sf = generate_filename_fRG(path_fRG, 1,1, sf=True, V=Volt)\n",
    "K2_1L = generate_filename_fRG(path_fRG, 2,1, V=Volt)\n",
    "K2_2L = generate_filename_fRG(path_fRG, 2,2, V=Volt)\n",
    "\n",
    "K1_PC    = change_prefix(path_fRG, PC, K1)\n",
    "K2_1L_PC = change_prefix(path_fRG, PC, K2_1L)\n",
    "K2_2L_PC = change_prefix(path_fRG, PC, K2_2L)"
   ]
  },
  {
   "cell_type": "code",
   "execution_count": null,
   "metadata": {
    "scrolled": false
   },
   "outputs": [],
   "source": [
    "U_list = [0.1, 0.5, 1, 1.5, 2, 2.5, 2.9, 3]\n",
    "typ = \"A\"\n",
    "iK = 1\n",
    "\n",
    "ins = True\n",
    "\n",
    "comp = ['R', 'K']\n",
    "\n",
    "for U_NRG in U_list:\n",
    "    \n",
    "    filenames = [K1, K1_sf, K2_1L]\n",
    "    PC_filenames = [K1_PC, K2_1L_PC]\n",
    "    if U_NRG != 3:\n",
    "        filenames.append(K2_2L)\n",
    "        #PC_filenames.append(K2_2L_PC)\n",
    "\n",
    "    labels = generate_label(path_fRG, filenames)\n",
    "    #PC_labels = add_PC_to(generate_label(PC_filenames))\n",
    "\n",
    "    #filenames += PC_filenames\n",
    "    #labels += PC_labels\n",
    "\n",
    "\n",
    "\n",
    "    NRG_info = [U_NRG, path_NRG, (Temp==0.01 and Volt==0)]\n",
    "    fig, ax = plot_fRG(typ, iK, filenames, labels, NRG_info, inset=ins)\n",
    "\n",
    "    Delta = 0.5\n",
    "\n",
    "    plt.show()\n",
    "\n",
    "    figname = typ\n",
    "    if typ != \"A\":\n",
    "        figname += comp[iK]\n",
    "        \n",
    "    figname += str(U_NRG/Delta)\n",
    "    if Volt != 0:\n",
    "        figname += \"_V=\" + \"%.2f\" % Volt\n",
    "    elif Temp != 0.01:\n",
    "        figname += \"_T=\" + \"%.2f\" % Temp\n",
    "    figname += \".pdf\"\n",
    "\n",
    "    fig.savefig(figname)"
   ]
  },
  {
   "cell_type": "code",
   "execution_count": null,
   "metadata": {},
   "outputs": [],
   "source": []
  }
 ],
 "metadata": {
  "kernelspec": {
   "display_name": "Python 3",
   "language": "python",
   "name": "python3"
  },
  "language_info": {
   "codemirror_mode": {
    "name": "ipython",
    "version": 3
   },
   "file_extension": ".py",
   "mimetype": "text/x-python",
   "name": "python",
   "nbconvert_exporter": "python",
   "pygments_lexer": "ipython3",
   "version": "3.8.2"
  }
 },
 "nbformat": 4,
 "nbformat_minor": 4
}
