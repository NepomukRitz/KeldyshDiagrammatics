{
 "cells": [
  {
   "cell_type": "code",
   "execution_count": null,
   "metadata": {},
   "outputs": [],
   "source": [
    "from plotting_routines import plot_self_energy, plot_spin_susceptibility\n",
    "import numpy as np"
   ]
  },
  {
   "cell_type": "code",
   "execution_count": null,
   "metadata": {},
   "outputs": [],
   "source": [
    "# filename of the fRG data set\n",
    "filenames = [\"integration_test_flow_6_G3_U=1.000000_V=0.000000.h5\",\n",
    "             \"integration_test_flow_7_G3_U=1.000000_V=0.000000.h5\"]\n",
    "\n",
    "# legend labels specifying the individual data sets in \"filenames\"\n",
    "labels = ['K1 1-loop', \n",
    "          'K1 1-loop']\n",
    "\n",
    "# value of U at which to compare fRG to NRG\n",
    "U_NRG = 0.5\n",
    "Delta_NRG = 1/2\n",
    "\n",
    "vs = []\n",
    "Sigmas = []"
   ]
  },
  {
   "cell_type": "code",
   "execution_count": null,
   "metadata": {},
   "outputs": [],
   "source": [
    "fig, ax = plot_self_energy(U_NRG, Delta_NRG, filenames, labels)\n",
    "for i in range(2):\n",
    "    ax[i].set_xlim(np.array([-1, 1])*20)"
   ]
  },
  {
   "cell_type": "code",
   "execution_count": null,
   "metadata": {},
   "outputs": [],
   "source": [
    "fig, ax = plot_spin_susceptibility(U_NRG, Delta_NRG, filenames, labels)\n",
    "for i in range(2):\n",
    "    ax[i].set_xlim(np.array([-1, 1])*5)"
   ]
  },
  {
   "cell_type": "code",
   "execution_count": null,
   "metadata": {},
   "outputs": [],
   "source": []
  },
  {
   "cell_type": "code",
   "execution_count": null,
   "metadata": {},
   "outputs": [],
   "source": []
  },
  {
   "cell_type": "code",
   "execution_count": null,
   "metadata": {},
   "outputs": [],
   "source": []
  }
 ],
 "metadata": {
  "kernelspec": {
   "display_name": "Python 3",
   "language": "python",
   "name": "python3"
  },
  "language_info": {
   "codemirror_mode": {
    "name": "ipython",
    "version": 3
   },
   "file_extension": ".py",
   "mimetype": "text/x-python",
   "name": "python",
   "nbconvert_exporter": "python",
   "pygments_lexer": "ipython3",
   "version": "3.7.4"
  }
 },
 "nbformat": 4,
 "nbformat_minor": 2
}
