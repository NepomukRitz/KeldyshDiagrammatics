{
 "cells": [
  {
   "cell_type": "code",
   "execution_count": null,
   "metadata": {},
   "outputs": [],
   "source": [
    "%pylab inline"
   ]
  },
  {
   "cell_type": "code",
   "execution_count": null,
   "metadata": {},
   "outputs": [],
   "source": [
    "import h5py"
   ]
  },
  {
   "cell_type": "code",
   "execution_count": null,
   "metadata": {},
   "outputs": [],
   "source": [
    "def close_files():\n",
    "    fileFFT_SE.close()\n",
    "    fileFFT_K1a.close()\n",
    "    fileFFT_K1p.close()\n",
    "    fileFFT_G.close()\n",
    "    file_SOPT_SE.close()"
   ]
  },
  {
   "cell_type": "code",
   "execution_count": null,
   "metadata": {},
   "outputs": [],
   "source": [
    "close_files()"
   ]
  },
  {
   "cell_type": "code",
   "execution_count": null,
   "metadata": {
    "scrolled": true
   },
   "outputs": [],
   "source": [
    "ls"
   ]
  },
  {
   "cell_type": "code",
   "execution_count": null,
   "metadata": {},
   "outputs": [],
   "source": [
    "fileFFT_SE = h5py.File(\"../cmake-build-debug/SOPT_FFT_SE.h5\") # load h5 file\n",
    "fileFFT_K1a = h5py.File(\"../cmake-build-debug/SOPT_FFT_K1a.h5\")\n",
    "fileFFT_K1p = h5py.File(\"../cmake-build-debug/SOPT_FFT_K1p.h5\")\n",
    "fileFFT_G = h5py.File(\"../cmake-build-debug/SOPT_FFT_G.h5\")"
   ]
  },
  {
   "cell_type": "code",
   "execution_count": null,
   "metadata": {},
   "outputs": [],
   "source": [
    "file_SOPT_SE = h5py.File(\"../cmake-build-debug/SOPT_SE.h5\")"
   ]
  },
  {
   "cell_type": "code",
   "execution_count": null,
   "metadata": {},
   "outputs": [],
   "source": [
    "v_FFT_SE = np.array(fileFFT_SE['v'])\n",
    "ReSER_FFT = np.array(fileFFT_SE['SE_R_R'])\n",
    "ImSER_FFT = np.array(fileFFT_SE['SE_R_I'])\n",
    "ReSEK_FFT = np.array(fileFFT_SE['SE_K_R'])\n",
    "ImSEK_FFT = np.array(fileFFT_SE['SE_K_I'])"
   ]
  },
  {
   "cell_type": "code",
   "execution_count": null,
   "metadata": {},
   "outputs": [],
   "source": [
    "v_SOPT_SE = np.array(file_SOPT_SE['v'])\n",
    "ReSER = np.array(file_SOPT_SE['Bench_ReSER'])\n",
    "ImSER = np.array(file_SOPT_SE['Bench_ImSER'])\n",
    "ReSEK = np.array(file_SOPT_SE['Bench_ReSEK'])\n",
    "ImSEK = np.array(file_SOPT_SE['Bench_ImSEK'])"
   ]
  },
  {
   "cell_type": "code",
   "execution_count": null,
   "metadata": {},
   "outputs": [],
   "source": [
    "fig, ax = plt.subplots(nrows=1, ncols=2, figsize=(16,4))\n",
    "fig.suptitle(\"Retarded SelfEnergy FFT-SOPT Comparison\", fontsize=16)\n",
    "for i in range(2):\n",
    "    ax[i].set_xlim(np.array((-20,20))); \n",
    "    #ax[i].set_ylim(-0.01, 0.05)\n",
    "    ax[i].set_xlabel('$\\omega$');\n",
    "    \n",
    "ax[0].set_ylabel('Re$\\Pi$'); ax[1].set_ylabel('Im$\\Pi$');\n",
    "#ax[0].plot(v_FFT_SE, ReSER_FFT, label='FFT');\n",
    "ax[0].plot(v_SOPT_SE, ReSER, '--', label='SOPT');\n",
    "ax[0].legend(loc='lower right');\n",
    "\n",
    "#ax[1].plot(v_FFT_SE, ImSER_FFT, label='FFT');\n",
    "ax[1].plot(v_SOPT_SE, ImSER, '--', label='SOPT');\n",
    "ax[1].legend(loc='lower right');"
   ]
  },
  {
   "cell_type": "code",
   "execution_count": null,
   "metadata": {},
   "outputs": [],
   "source": [
    "data1 =  np.loadtxt('../cmake-build-debug/Output/Pia_odd_even.dat')\n",
    "data2 =  np.loadtxt('../cmake-build-debug/Output/Pia_odd_odd_c.dat')\n",
    "data10 = np.loadtxt('../cmake-build-debug/Output/PiaOE.dat')\n",
    "data11 = np.loadtxt('../cmake-build-debug/Output/PiaOO.dat')"
   ]
  },
  {
   "cell_type": "code",
   "execution_count": null,
   "metadata": {},
   "outputs": [],
   "source": [
    "w = data1[:,0]\n",
    "\n",
    "w_test = data10[:,0]\n",
    "Re_Pia_OE = data1[:,1]\n",
    "Im_Pia_OE = data1[:,2]\n",
    "\n",
    "Re_Pia_OO = data2[:,1]\n",
    "Im_Pia_OO = data2[:,2]\n",
    "\n",
    "RePiOE_SOPT = data10[:,1]\n",
    "ImPiOE_SOPT = data10[:,2]\n",
    "\n",
    "RePiOO_SOPT = data11[:,1]\n",
    "ImPiOO_SOPT = data11[:,2]"
   ]
  },
  {
   "cell_type": "code",
   "execution_count": null,
   "metadata": {
    "scrolled": false
   },
   "outputs": [],
   "source": [
    "fig, ax = plt.subplots(nrows=1, ncols=2, figsize=(16,4))\n",
    "fig.suptitle(\"PiOE from SOPT_Comparison\", fontsize=16)\n",
    "for i in range(2):\n",
    "    ax[i].set_xlim(np.array((-10,10))); \n",
    "    #ax[i].set_ylim(-0.01, 0.05)\n",
    "    ax[i].set_xlabel('$\\omega$');\n",
    "    \n",
    "ax[0].set_ylabel('Re$\\Pi$'); ax[1].set_ylabel('Im$\\Pi$');\n",
    "#ax[0].plot(v,2.*real(PiOE),label='OE_MATLAB');        \n",
    "ax[0].plot(w,Re_Pia_OE, label='OE_C++');           \n",
    "ax[0].plot(w,Re_Pia_OE, label='woIP');           \n",
    "ax[0].plot(w,RePiOE_SOPT, label='OE_cxx_SOPT');    \n",
    "ax[0].legend(loc='lower right');                  \n",
    "\n",
    "#ax[1].plot(v,2.*imag(PiOE),label='OE_MATLAB');\n",
    "ax[1].plot(w,Im_Pia_OE, label='OE_C++');\n",
    "ax[1].plot(w,ImPiOE_SOPT, label='OE_cxx_SOPT');\n",
    "ax[1].legend(loc='lower right');"
   ]
  },
  {
   "cell_type": "code",
   "execution_count": null,
   "metadata": {},
   "outputs": [],
   "source": [
    "w[75]"
   ]
  },
  {
   "cell_type": "code",
   "execution_count": null,
   "metadata": {},
   "outputs": [],
   "source": [
    "Re_Pia_OE[75]"
   ]
  },
  {
   "cell_type": "code",
   "execution_count": null,
   "metadata": {},
   "outputs": [],
   "source": [
    "Re_Pia_OE_woIP[75]"
   ]
  },
  {
   "cell_type": "code",
   "execution_count": null,
   "metadata": {},
   "outputs": [],
   "source": [
    "fig, ax = plt.subplots(nrows=1, ncols=2, figsize=(16,4))\n",
    "fig.suptitle(\"PiOO from SOPT_Comparison\", fontsize=16)\n",
    "for i in range(2):\n",
    "    ax[i].set_xlim(np.array((-1,1))*20); \n",
    "    ax[i].set_xlabel('$\\omega$');\n",
    "    \n",
    "ax[0].set_ylabel('Re$\\Pi$'); ax[1].set_ylabel('Im$\\Pi$');\n",
    "#ax[0].plot([-100,100],[0,0], label='OO_MATLAB');#ax[0].plot(v,real(PiOO),label='OO_MATLAB');                               \n",
    "ax[0].plot(w,Re_Pia_OO, label='OOC_C++');          \n",
    "ax[0].plot(w,RePiOO_SOPT, '--', label='OO_cxx_SOPT');     \n",
    "ax[0].legend(loc='lower right');                    \n",
    "\n",
    "#ax[1].plot(v,2.*imag(PiOO),label='OO_MATLAB');\n",
    "ax[1].plot(w,2.*Im_Pia_OO,label='OOC_C++');\n",
    "ax[1].plot(w,ImPiOO_SOPT, '--',label='OO_cxx_SOPT');\n",
    "ax[1].legend(loc='lower right');\n",
    "#ax[1].set_ylim(-.05,0)"
   ]
  },
  {
   "cell_type": "code",
   "execution_count": null,
   "metadata": {},
   "outputs": [],
   "source": [
    "file = h5py.File(\"/project/th-scratch/s/Sa.Aguirre/Keldysh_mfRG_data/test_SOPT/SIAM_SOPT_FFT.h5\")"
   ]
  },
  {
   "cell_type": "code",
   "execution_count": null,
   "metadata": {},
   "outputs": [],
   "source": [
    "v2 = np.array(file['v']); # load data\n",
    "ReSE = np.array(file['ReSE'])\n",
    "ImSE = np.array(file['ImSE'])"
   ]
  },
  {
   "cell_type": "code",
   "execution_count": null,
   "metadata": {
    "scrolled": true
   },
   "outputs": [],
   "source": [
    "SER_mat = ReSE + 1j*ImSE\n",
    "ReSER_mat = real(SER_mat)\n",
    "ImSER_mat = imag(SER_mat)"
   ]
  },
  {
   "cell_type": "code",
   "execution_count": null,
   "metadata": {},
   "outputs": [],
   "source": [
    "def n(w):\n",
    "    return 1.*(w<=0)"
   ]
  },
  {
   "cell_type": "code",
   "execution_count": null,
   "metadata": {},
   "outputs": [],
   "source": [
    "SEK_mat = (1.-2.*n(v2))*(SER_mat - conj(SER_mat))\n",
    "\n",
    "ReSEK_mat = real(SEK_mat)\n",
    "ImSEK_mat = imag(SEK_mat)"
   ]
  },
  {
   "cell_type": "code",
   "execution_count": null,
   "metadata": {},
   "outputs": [],
   "source": [
    "data4 = np.loadtxt('../cmake-build-debug/Output/SelfEnergyR_cxx.dat')\n",
    "data5 = np.loadtxt('../cmake-build-debug/Output/SelfEnergyK_cxx.dat')"
   ]
  },
  {
   "cell_type": "code",
   "execution_count": null,
   "metadata": {},
   "outputs": [],
   "source": [
    "w2 = data4[:,0]\n",
    "\n",
    "ReSER_cxx = data4[:,1]\n",
    "ImSER_cxx = data4[:,2]\n",
    "\n",
    "ReSEK_cxx = data5[:,1]\n",
    "ImSEK_cxx = data5[:,2]"
   ]
  },
  {
   "cell_type": "code",
   "execution_count": null,
   "metadata": {
    "scrolled": true
   },
   "outputs": [],
   "source": [
    "fig, ax = plt.subplots(nrows=1, ncols=2, figsize=(16,4))\n",
    "fig.suptitle(\"Retarded SelfEnergy from SOPT_Comparison\", fontsize=16)\n",
    "for i in range(2):\n",
    "    ax[i].set_xlim(np.array((-1,1))*20); \n",
    "    ax[i].set_xlabel('$\\omega$');\n",
    "    ax[i].plot([-100,100],[0,0], '-k')\n",
    "    #ax[i].set_ylim(-0.05, 0);\n",
    "ax[0].set_ylabel('Re$\\Sigma^R$'); ax[1].set_ylabel('Im$\\Sigma^R$');\n",
    "#ax[0].plot(v2,ReSER_mat,label='ReSE_MATLAB');        ax[1].plot(v2,ImSER_mat,label='ImSE_MATLAB');\n",
    "ax[0].plot(w2,ReSER_cxx,'--', label='ReSE_C++');     ax[1].plot(w2,ImSER_cxx,'--', label='ImSE_C++');\n",
    "ax[0].legend(loc='lower right');            ax[1].legend(loc='lower right');\n"
   ]
  },
  {
   "cell_type": "code",
   "execution_count": null,
   "metadata": {},
   "outputs": [],
   "source": [
    "fig, ax = plt.subplots(nrows=1, ncols=2, figsize=(16,4))\n",
    "fig.suptitle(\"Keldysh SelfEnergy from SOPT_Comparison\", fontsize=16)\n",
    "for i in range(2):\n",
    "    ax[i].set_xlim(np.array((-1,1))*10); \n",
    "    ax[i].set_xlabel('$\\omega$');\n",
    "    #ax[i].set_ylim(-0.05, 0);\n",
    "ax[0].set_ylabel('Re$\\Sigma^K$'); ax[1].set_ylabel('Im$\\Sigma^K$');\n",
    "ax[0].plot(v2,ReSEK_mat,label='ReSE_MATLAB');        ax[1].plot(v2,ImSEK_mat,label='ImSE_MATLAB');\n",
    "ax[0].plot(w2,ReSEK_cxx, '--', label='ReSE_C++');          ax[1].plot(w2,ImSEK_cxx, '--', label='ImSE_C++');\n",
    "ax[0].legend(loc='lower right');            ax[1].legend(loc='lower right');\n",
    "ax[1].plot([-100,100],[0,0], '-k');"
   ]
  },
  {
   "cell_type": "code",
   "execution_count": null,
   "metadata": {},
   "outputs": [],
   "source": []
  },
  {
   "cell_type": "code",
   "execution_count": null,
   "metadata": {},
   "outputs": [],
   "source": []
  },
  {
   "cell_type": "code",
   "execution_count": null,
   "metadata": {},
   "outputs": [],
   "source": []
  },
  {
   "cell_type": "code",
   "execution_count": null,
   "metadata": {},
   "outputs": [],
   "source": [
    "ls"
   ]
  },
  {
   "cell_type": "code",
   "execution_count": null,
   "metadata": {},
   "outputs": [],
   "source": [
    "ls ../../cmake-build-debug/Output/"
   ]
  },
  {
   "cell_type": "code",
   "execution_count": null,
   "metadata": {},
   "outputs": [],
   "source": [
    "SER_R_data = np.loadtxt('../cmake-build-debug/Output/SelfEnergyR_R_cxx.dat')\n",
    "SER_A_data = np.loadtxt('../cmake-build-debug/Output/SelfEnergyR_A_cxx.dat')\n",
    "SER_K_data = np.loadtxt('../cmake-build-debug/Output/SelfEnergyR_K_cxx.dat')\n",
    "\n",
    "SEK_R_data = np.loadtxt('../cmake-build-debug/Output/SelfEnergyK_R_cxx.dat')\n",
    "SEK_A_data = np.loadtxt('../cmake-build-debug/Output/SelfEnergyK_A_cxx.dat')\n",
    "SEK_K_data = np.loadtxt('../cmake-build-debug/Output/SelfEnergyK_K_cxx.dat')\n",
    "\n",
    "w3 = SER_R_data[:,0]\n",
    "\n",
    "ReSER_R = SER_R_data[:,1]\n",
    "ImSER_R = SER_R_data[:,2]\n",
    "ReSER_A = SER_A_data[:,1]\n",
    "ImSER_A = SER_A_data[:,2]\n",
    "ReSER_K = SER_K_data[:,1]\n",
    "ImSER_K = SER_K_data[:,2]\n",
    "\n",
    "ReSERi = ReSER_R + ReSER_A + ReSER_K;\n",
    "ImSERi = ImSER_R + ImSER_A + ImSER_K;\n",
    "\n",
    "ReSEK_R = SEK_R_data[:,1]\n",
    "ImSEK_R = SEK_R_data[:,2]\n",
    "ReSEK_A = SEK_A_data[:,1]\n",
    "ImSEK_A = SEK_A_data[:,2]\n",
    "ReSEK_K = SEK_K_data[:,1]\n",
    "ImSEK_K = SEK_K_data[:,2]\n",
    "\n",
    "ReSEKi = ReSEK_R + ReSEK_A + ReSEK_K;\n",
    "ImSEKi = ImSEK_R + ImSEK_A + ImSEK_K;"
   ]
  },
  {
   "cell_type": "code",
   "execution_count": null,
   "metadata": {},
   "outputs": [],
   "source": [
    "fig, ax = plt.subplots(nrows=1, ncols=2, figsize=(16,4))\n",
    "fig.suptitle(\"Retarded SelfEnergy by contributions from SOPT_Comparison\", fontsize=16)\n",
    "for i in range(2):\n",
    "    ax[i].set_xlim(np.array((-1,1))*20); \n",
    "    ax[i].set_xlabel('$\\omega$');\n",
    "    ax[i].plot([-100,100],[0,0], '-k')\n",
    "    #ax[i].set_ylim(-0.04, 0.04);\n",
    "ax[0].set_ylabel('Re$\\Sigma^R$'); ax[1].set_ylabel('Im$\\Sigma^R$');\n",
    "#ax[0].plot(v2,ReSER_mat,label='ReSE_MATLAB');        ax[1].plot(v2,ImSER_mat,label='ImSE_MATLAB');\n",
    "ax[0].plot(w3,ReSER_R,'--', label='ReSE_R_C++');     ax[1].plot(w3,ImSER_R,'--', label='ImSE_R_C++');\n",
    "ax[0].plot(w3,ReSER_A,'--', label='ReSE_A_C++');     ax[1].plot(w3,ImSER_A,'--', label='ImSE_A_C++');\n",
    "ax[0].plot(w3,ReSER_K,'--', label='ReSE_K_C++');     ax[1].plot(w3,ImSER_K,'--', label='ImSE_K_C++');\n",
    "ax[0].plot(w3,ReSERi,'--', label='ReSE_C++');        ax[1].plot(w3,ImSERi,'--', label='ImSE_C++');\n",
    "#ax[0].plot(w3,.3/w3,'--', label='ReSE_C++');        ax[1].plot(w3,-.3/(w3**2),'--', label='ImSE_C++');\n",
    "ax[0].legend(loc='lower right');            ax[1].legend(loc='lower right');\n"
   ]
  },
  {
   "cell_type": "code",
   "execution_count": null,
   "metadata": {},
   "outputs": [],
   "source": [
    "fig, ax = plt.subplots(nrows=1, ncols=2, figsize=(16,4))\n",
    "fig.suptitle(\"Keldysh SelfEnergy by contributions from SOPT_Comparison\", fontsize=16)\n",
    "for i in range(2):\n",
    "    ax[i].set_xlim(np.array((-1,1))*20); \n",
    "    ax[i].set_xlabel('$\\omega$');\n",
    "    ax[i].plot([-100,100],[0,0], '-k')\n",
    "    #ax[i].set_ylim(-0.05, 0);\n",
    "ax[0].set_ylabel('Re$\\Sigma^R$'); ax[1].set_ylabel('Im$\\Sigma^R$');\n",
    "#ax[0].plot(v2,ReSEK_mat,label='ReSE_MATLAB');        ax[1].plot(v2,ImSEK_mat,label='ImSE_MATLAB');\n",
    "ax[0].plot(w3,ReSEK_R,'--', label='ReSE_R_C++');     ax[1].plot(w3,ImSEK_R,'--', label='ImSE_R_C++');\n",
    "ax[0].plot(w3,ReSEK_A,'--', label='ReSE_A_C++');     ax[1].plot(w3,ImSEK_A,'--', label='ImSE_A_C++');\n",
    "ax[0].plot(w3,ReSEK_K,'--', label='ReSE_K_C++');     ax[1].plot(w3,ImSEK_K,'--', label='ImSE_K_C++');\n",
    "ax[0].plot(w3,ReSEKi,'--', label='ReSE_C++');        ax[1].plot(w3,ImSEKi,'--', label='ImSE_C++');\n",
    "ax[0].legend(loc='lower right');            ax[1].legend(loc='lower right');"
   ]
  },
  {
   "cell_type": "code",
   "execution_count": null,
   "metadata": {},
   "outputs": [],
   "source": []
  },
  {
   "cell_type": "code",
   "execution_count": null,
   "metadata": {},
   "outputs": [],
   "source": []
  },
  {
   "cell_type": "code",
   "execution_count": null,
   "metadata": {},
   "outputs": [],
   "source": [
    "ls ../cmake-build-debug/"
   ]
  },
  {
   "cell_type": "code",
   "execution_count": null,
   "metadata": {},
   "outputs": [],
   "source": [
    "fwIP = h5py.File(\"../cmake-build-debug/integr_wIP_nINT_501.h5\")\n",
    "fwoIP = h5py.File(\"../cmake-build-debug/integr_woIP_nINT_501.h5\")"
   ]
  },
  {
   "cell_type": "code",
   "execution_count": null,
   "metadata": {},
   "outputs": [],
   "source": [
    "v = fwIP['w']\n",
    "RealwIP = fwIP['Integrand_real']\n",
    "ImagwIP = fwIP['Integrand_imag']\n",
    "\n",
    "RealwoIP = fwoIP['Integrand_real']\n",
    "ImagwoIP = fwoIP['Integrand_imag']"
   ]
  },
  {
   "cell_type": "code",
   "execution_count": null,
   "metadata": {},
   "outputs": [],
   "source": [
    "fwIP.close()\n",
    "fwoIP.close()"
   ]
  },
  {
   "cell_type": "code",
   "execution_count": null,
   "metadata": {},
   "outputs": [],
   "source": []
  },
  {
   "cell_type": "code",
   "execution_count": null,
   "metadata": {},
   "outputs": [],
   "source": [
    "ls ../cmake-build-debug/"
   ]
  },
  {
   "cell_type": "code",
   "execution_count": null,
   "metadata": {},
   "outputs": [],
   "source": [
    "fwIP = h5py.File(\"../cmake-build-debug/bubble_wIP_nINT_501.h5\")\n",
    "fwoIP = h5py.File(\"../cmake-build-debug/bubble_woIP_nINT_501.h5\")"
   ]
  },
  {
   "cell_type": "code",
   "execution_count": null,
   "metadata": {},
   "outputs": [],
   "source": [
    "w = fwIP['w']\n",
    "PiRwIP = np.array(fwIP['PiR'])\n",
    "PiIwIP = np.array(fwIP['PiI'])\n",
    "\n",
    "PiRwoIP = np.array(fwoIP['PiR'])\n",
    "PiIwoIP = np.array(fwoIP['PiI'])"
   ]
  },
  {
   "cell_type": "code",
   "execution_count": null,
   "metadata": {},
   "outputs": [],
   "source": [
    "fig, ax = plt.subplots(nrows=1, ncols=2, figsize=(16,4))\n",
    "fig.suptitle(\"Integrands\", fontsize=16)\n",
    "for i in range(2):\n",
    "    ax[i].set_xlim(np.array((-1,1))*2); \n",
    "    ax[i].set_xlabel('$v$');\n",
    "    ax[i].plot([-100,100],[0,0], '-k')\n",
    "    #ax[i].set_ylim(-0.05, 0);\n",
    "ax[0].set_ylabel('Re$\\kappa^R$'); ax[1].set_ylabel('Im$\\kappa^R$');\n",
    "ax[0].plot(w, PiRwIP,'.-' ,label='RealPartwIP');        ax[1].plot(w, PiIwIP, label='ImagPartwIP');\n",
    "ax[0].plot(w, PiRwoIP,'.-', label='RealPartwoIP');        ax[1].plot(w, PiIwoIP, label='ImagPartwoIP');\n",
    "\n",
    "ax[0].legend(loc='lower right');            ax[1].legend(loc='lower right');"
   ]
  },
  {
   "cell_type": "code",
   "execution_count": null,
   "metadata": {},
   "outputs": [],
   "source": [
    "fwIP.close()\n",
    "fwoIP.close()"
   ]
  },
  {
   "cell_type": "code",
   "execution_count": null,
   "metadata": {},
   "outputs": [],
   "source": []
  }
 ],
 "metadata": {
  "kernelspec": {
   "display_name": "Python 3",
   "language": "python",
   "name": "python3"
  },
  "language_info": {
   "codemirror_mode": {
    "name": "ipython",
    "version": 3
   },
   "file_extension": ".py",
   "mimetype": "text/x-python",
   "name": "python",
   "nbconvert_exporter": "python",
   "pygments_lexer": "ipython3",
   "version": "3.6.9"
  }
 },
 "nbformat": 4,
 "nbformat_minor": 2
}
